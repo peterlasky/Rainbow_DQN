{
 "cells": [
  {
   "cell_type": "code",
   "execution_count": 1,
   "metadata": {},
   "outputs": [],
   "source": [
    "from dqn_agent import DQN\n",
    "import os\n",
    "os.environ['TF_CPP_MIN_LOG_LEVEL'] = '3'\n",
    "names=[]\n"
   ]
  },
  {
   "cell_type": "code",
   "execution_count": 2,
   "metadata": {},
   "outputs": [
    {
     "name": "stdout",
     "output_type": "stream",
     "text": [
      "Exiting training loop....\n",
      "Exit condition: max steps reached {self.max_steps}\n",
      "steps=1000000, episodes=4947\n",
      "Best Score: 970.0\n",
      "Trailing Avg (last 20): 523.5\n",
      "Time elapsed: 0:19:53\n"
     ]
    },
    {
     "name": "stderr",
     "output_type": "stream",
     "text": [
      "steps:100%|██████████████████|1,000,000/1,000,000[t:19:53/00:00], eps=4,947, ev_avg=513.0, tr_avg=421.8, rate=841.5 st/s\n"
     ]
    }
   ],
   "source": [
    "p = dict(\n",
    "    name=               'dqn_time_test_1_envs',\n",
    "    env_name =          'SpaceInvaders', # defaults to NoFrameskip-v4 version\n",
    "    log_dir=            'time_test',\n",
    "    overwrite_previous= False,\n",
    "    asynchronous=       False,\n",
    "\n",
    "    ## rainbow flags\n",
    "    doubleQ=            False,\n",
    "    dueling=            False,\n",
    "    noisy_linear=       False,\n",
    "    categorical_DQN=    False,\n",
    "    prioritized_replay= False,\n",
    "    n_step_learning=    False,\n",
    "\n",
    "    screen_size=        84,  # can be 42 or 84. Breakout is fine with 42.\n",
    "    memory_size=        1_000_000,\n",
    "    eval_interval=      100_000,\n",
    "    max_steps=          1_000_000, \n",
    "    record_interval=    1_000_000, \n",
    "    n_games_per_eval=   5,\n",
    "    n_envs=             1,\n",
    "    pbar_update_interval= 800,\n",
    "    seed=               42, \n",
    "    data_plotting =     False\n",
    "    )\n",
    "dqn = DQN(p)\n",
    "\n",
    "dqn.train()\n",
    "names.append(dqn.filepaths.sub_dir)\n"
   ]
  },
  {
   "cell_type": "code",
   "execution_count": null,
   "metadata": {},
   "outputs": [
    {
     "name": "stderr",
     "output_type": "stream",
     "text": [
      "steps: 36%|██████▋            |355,200/1,000,000[t:05:24/09:49], eps=2,069, ev_avg=206.0, tr_avg=186.6, rate=1090.7 st/s"
     ]
    }
   ],
   "source": [
    "p.update(\n",
    "    name=               'dqn_time_test_16_env',\n",
    "    n_envs=16)\n",
    "dqn = DQN(p)\n",
    "dqn.train()\n",
    "names.append(dqn.filepaths.sub_dir)\n"
   ]
  },
  {
   "cell_type": "code",
   "execution_count": null,
   "metadata": {},
   "outputs": [],
   "source": [
    "p.update(\n",
    "    \n",
    "    name = 'rb_time_test_1_env',\n",
    "    doubleQ=            True,\n",
    "    dueling=            True,\n",
    "    noisy_linear=       True,\n",
    "    categorical_DQN=    True,\n",
    "    prioritized_replay= True,\n",
    "    n_step_learning=    True,\n",
    "    n_envs=             1,\n",
    "\n",
    ")\n",
    "\n",
    "dqn = DQN(p)\n",
    "\n",
    "dqn.train()\n",
    "names.append(dqn.filepaths.sub_dir)\n"
   ]
  },
  {
   "cell_type": "code",
   "execution_count": null,
   "metadata": {},
   "outputs": [],
   "source": [
    "p.update(\n",
    "    \n",
    "    name = 'rb_time_test_16_env',\n",
    "    n_envs=16)\n",
    "dqn = DQN(p)\n",
    "dqn.train()\n",
    "names.append(dqn.filepaths.sub_dir)\n"
   ]
  },
  {
   "cell_type": "code",
   "execution_count": null,
   "metadata": {},
   "outputs": [],
   "source": [
    "for name in names:\n",
    "    filepath = os.path.join('time_test', name, name + '_notes.txt')\n",
    "    with open(filepath, 'r') as f:\n",
    "        lines = f.readlines()\n",
    "    print(f'{name}: {lines[3]}')\n"
   ]
  }
 ],
 "metadata": {
  "kernelspec": {
   "display_name": "atari_env2",
   "language": "python",
   "name": "python3"
  },
  "language_info": {
   "codemirror_mode": {
    "name": "ipython",
    "version": 3
   },
   "file_extension": ".py",
   "mimetype": "text/x-python",
   "name": "python",
   "nbconvert_exporter": "python",
   "pygments_lexer": "ipython3",
   "version": "3.10.15"
  }
 },
 "nbformat": 4,
 "nbformat_minor": 2
}
