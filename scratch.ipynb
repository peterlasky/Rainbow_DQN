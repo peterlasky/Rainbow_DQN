{
 "cells": [
  {
   "cell_type": "code",
   "execution_count": 1,
   "metadata": {},
   "outputs": [],
   "source": [
    "from modules.utils import FilePathManager\n",
    "from types import SimpleNamespace\n"
   ]
  },
  {
   "cell_type": "code",
   "execution_count": 2,
   "metadata": {},
   "outputs": [
    {
     "name": "stdout",
     "output_type": "stream",
     "text": [
      "logs/speedtest_1 already exists.\n",
      "logs/speedtest_2 already exists.\n",
      "logs/speedtest_3 already exists.\n",
      "logs/speedtest_4 already exists.\n",
      "logs/speedtest_5 already exists.\n",
      "logs/speedtest_6 already exists.\n",
      "logs/speedtest_7 already exists.\n",
      "logs/speedtest_8 already exists.\n",
      "logs/speedtest_9 already exists.\n",
      "logs/speedtest_10 already exists.\n",
      "logs/speedtest_11 already exists.\n",
      "logs/speedtest_12 already exists.\n",
      "logs/speedtest_13 already exists.\n",
      "logs/speedtest_14 already exists.\n",
      "logs/speedtest_15 already exists.\n",
      "logs/speedtest_16 already exists.\n",
      "Creating logs/speedtest_17\n",
      "filepath_manager.main_log_dir='logs'\n",
      "filepath_manager.group_dir='logs/speedtest_17'\n",
      "filepath_manager.log_filepath='logs/speedtest_17/DDQN.csv'\n",
      "filepath_manager.checkpoints_dir='logs/speedtest_17/DDQN_checkpoints'\n",
      "filepath_manager.video_dir='logs/speedtest_17/DDQN/videos'\n"
     ]
    }
   ],
   "source": [
    "\n"
   ]
  }
 ],
 "metadata": {
  "kernelspec": {
   "display_name": "atari_env2",
   "language": "python",
   "name": "python3"
  },
  "language_info": {
   "codemirror_mode": {
    "name": "ipython",
    "version": 3
   },
   "file_extension": ".py",
   "mimetype": "text/x-python",
   "name": "python",
   "nbconvert_exporter": "python",
   "pygments_lexer": "ipython3",
   "version": "3.10.15"
  }
 },
 "nbformat": 4,
 "nbformat_minor": 2
}
