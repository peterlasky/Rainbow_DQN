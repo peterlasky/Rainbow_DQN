{
 "cells": [
  {
   "cell_type": "code",
   "execution_count": 1,
   "metadata": {},
   "outputs": [],
   "source": [
    "from dqn_agent import DQN\n",
    "import os\n",
    "os.environ['TF_CPP_MIN_LOG_LEVEL'] = '3'\n",
    "names=[]\n"
   ]
  },
  {
   "cell_type": "code",
   "execution_count": null,
   "metadata": {},
   "outputs": [
    {
     "name": "stderr",
     "output_type": "stream",
     "text": [
      "steps: 42%|████████████▍                 |20,800/50,000[t:00:21/00:31], eps=121, ev_avg=0.0, tr_avg=0.0, rate=937.1 st/s"
     ]
    }
   ],
   "source": [
    "p = dict(\n",
    "    name=               'rainbow_synchronous',\n",
    "    note=               ''' with 8 vectorized environments. ''',\n",
    "    env_name =          'SpaceInvaders', # defaults to NoFrameskip-v4 version\n",
    "    log_dir=            'sp_inv_synch_test',\n",
    "    overwrite_previous= False,\n",
    "    asynchronous=       False,\n",
    " \n",
    "    ## rainbow flags\n",
    "    doubleQ=            True,\n",
    "    dueling=            True,\n",
    "    noisy_linear=       True,\n",
    "    categorical_DQN=    True,\n",
    "    prioritized_replay= True,\n",
    "    n_step_learning=    True,\n",
    "\n",
    "    screen_size=        84,  # can be 42 or 84. Breakout is fine with 42.\n",
    "    memory_size=        1_000_000,\n",
    "    eval_interval=      100_000,\n",
    "    max_steps=          20_000_000, \n",
    "    record_interval=    1_000_000, \n",
    "    n_games_per_eval=   5,\n",
    "    n_envs=             16,\n",
    "    pbar_update_interval= 800,\n",
    "    seed=               42\n",
    "    )\n",
    "dqn = DQN(p)\n",
    "\n",
    "dqn.train()\n",
    "names.append(dqn.filepaths.sub_dir)\n",
    "print(names)\n"
   ]
  },
  {
   "cell_type": "code",
   "execution_count": null,
   "metadata": {},
   "outputs": [],
   "source": [
    "break this shit"
   ]
  },
  {
   "cell_type": "code",
   "execution_count": null,
   "metadata": {},
   "outputs": [],
   "source": [
    "p.update(\n",
    "    name=               'rainbow_copy',\n",
    "    #asynchronous=       False,\n",
    "    )\n",
    "dqn = DQN(p)\n",
    "dqn.train()\n",
    "names.append(dqn.filepaths.sub_dir)\n",
    "print(names)"
   ]
  },
  {
   "cell_type": "code",
   "execution_count": null,
   "metadata": {},
   "outputs": [],
   "source": [
    "# plot all the results in the log folder\n",
    "from plot_multiple_results import plot_multiple_results\n",
    "col = 'trailing_avg'\n",
    "assert col in ['best_score','eval_avg','trailing_avg','loss']\n",
    "\n",
    "from plot_multiple_results import plot_multiple_results\n",
    "\n",
    "plot_multiple_results(os.path.join('logs',p['log_dir']), names, 'trailing_avg')\n"
   ]
  }
 ],
 "metadata": {
  "kernelspec": {
   "display_name": "atari_env2",
   "language": "python",
   "name": "python3"
  },
  "language_info": {
   "codemirror_mode": {
    "name": "ipython",
    "version": 3
   },
   "file_extension": ".py",
   "mimetype": "text/x-python",
   "name": "python",
   "nbconvert_exporter": "python",
   "pygments_lexer": "ipython3",
   "version": "3.10.15"
  }
 },
 "nbformat": 4,
 "nbformat_minor": 2
}
