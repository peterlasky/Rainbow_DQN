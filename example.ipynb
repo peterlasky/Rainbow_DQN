{
 "cells": [
  {
   "cell_type": "code",
   "execution_count": 1,
   "metadata": {},
   "outputs": [],
   "source": [
    "from dqn_agent import DQN\n",
    "\n",
    "import os\n",
    "os.environ['TF_CPP_MIN_LOG_LEVEL'] = '3'\n",
    "names=[] # keep track of names for plotting at the end\n",
    "\n",
    "# basic parameters\n",
    "p = dict(\n",
    "    env_name =              'BreakoutNoFrameskip-v4', # use NoFrameskip-v4 version\n",
    "    group_dir=              'SI_tests',\n",
    "    name =                  'DDQN',\n",
    "    overwrite_previous=     False,\n",
    "    asynchronous=           False,\n",
    "\n",
    "    group_training_losses = True,\n",
    "    data_plotting =         True,\n",
    "    \n",
    "    screen_size=        42,\n",
    "    trailing_avg_trail= 40,\n",
    "    eval_interval=      100_000,\n",
    "    max_steps=          15_000_000, \n",
    "    record_interval=    5_000_000, \n",
    "    n_games_per_eval=   5,\n",
    "    pbar_update_interval= 800,\n",
    "    seed=               42\n",
    "    )\n"
   ]
  },
  {
   "cell_type": "code",
   "execution_count": null,
   "metadata": {},
   "outputs": [
    {
     "name": "stderr",
     "output_type": "stream",
     "text": [
      "steps:  0%|                    |30,400/15,000,000[t:00:25/3:29:07], eps=1,505, ev_avg=0.0, tr_avg=0.0, rate=1179.0 stp/s"
     ]
    }
   ],
   "source": [
    "p.update(\n",
    "    name=               'rainbow - 20 envs',)\n",
    "'''\n",
    "    doubleQ=            True,\n",
    "    dueling=            True,\n",
    "    noisy_linear=       True,\n",
    "    categorical_DQN=    True,\n",
    "    prioritized_replay= True,\n",
    "    n_step_learning=    True,\n",
    "    n_envs=             20,\n",
    "    '''\n",
    "    \n",
    "dqn = DQN(p)\n",
    "\n",
    "dqn.train()\n",
    "names.append(dqn.filepaths.sub_dir)\n"
   ]
  },
  {
   "cell_type": "code",
   "execution_count": null,
   "metadata": {},
   "outputs": [],
   "source": [
    "''' Vanilla DQN'''\n",
    "\n",
    "p.update(\n",
    "    name=               'DQN',\n",
    "    doubleQ=            False,\n",
    "    dueling=            False,\n",
    "    noisy_linear=       False,\n",
    "    categorical_DQN=    False,\n",
    "    prioritized_replay= False,\n",
    "    n_step_learning=    False,\n",
    "    )\n",
    "dqn = DQN(p)\n",
    "dqn.train()\n",
    "names.append(dqn.filepaths.sub_dir)\n"
   ]
  },
  {
   "cell_type": "code",
   "execution_count": null,
   "metadata": {},
   "outputs": [],
   "source": [
    "''' Rainbow DQN'''\n",
    "\n",
    "p.update(\n",
    "    name=               'Rainbow',\n",
    "    doubleQ=            True,\n",
    "    dueling=            True,\n",
    "    noisy_linear=       True,\n",
    "    categorical_DQN=    True,\n",
    "    prioritized_replay= True,\n",
    "    n_step_learning=    True,\n",
    "    )\n",
    "dqn = DQN(p)\n",
    "dqn.train()\n",
    "names.append(dqn.filepaths.sub_dir)\n",
    "\n"
   ]
  },
  {
   "cell_type": "code",
   "execution_count": null,
   "metadata": {},
   "outputs": [],
   "source": [
    "# plot all the results in the log folder\n",
    "import importlib, os\n",
    "import modules.utils\n",
    "importlib.reload(modules.utils)\n",
    "plot = modules.utils.plot_multiple_results\n",
    "\n",
    "col = 'trailing_avg'; assert col in ['best_score','eval_avg','trailing_avg','loss']\n",
    "plot( names, 'trailing_avg')\n"
   ]
  }
 ],
 "metadata": {
  "kernelspec": {
   "display_name": "atari_env2",
   "language": "python",
   "name": "python3"
  },
  "language_info": {
   "codemirror_mode": {
    "name": "ipython",
    "version": 3
   },
   "file_extension": ".py",
   "mimetype": "text/x-python",
   "name": "python",
   "nbconvert_exporter": "python",
   "pygments_lexer": "ipython3",
   "version": "3.10.15"
  }
 },
 "nbformat": 4,
 "nbformat_minor": 2
}
